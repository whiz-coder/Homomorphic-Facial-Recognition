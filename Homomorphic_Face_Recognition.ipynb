{
  "cells": [
    {
      "cell_type": "markdown",
      "id": "activated-steering",
      "metadata": {
        "id": "activated-steering"
      },
      "source": [
        "# Requirements"
      ]
    },
    {
      "cell_type": "code",
      "source": [
        "# !pip install tenseal\n",
        "# !pip install deepface\n"
      ],
      "metadata": {
        "id": "cwLPbM36cAwy"
      },
      "id": "cwLPbM36cAwy",
      "execution_count": 99,
      "outputs": []
    },
    {
      "cell_type": "code",
      "execution_count": 100,
      "id": "blank-finding",
      "metadata": {
        "id": "blank-finding"
      },
      "outputs": [],
      "source": [
        "import tenseal as ts # pip install tenseal\n",
        "from deepface import DeepFace #!pip install deepface\n",
        "import base64\n",
        "from deepface.commons import distance as dst"
      ]
    },
    {
      "cell_type": "markdown",
      "id": "assured-coating",
      "metadata": {
        "id": "assured-coating"
      },
      "source": [
        "# Finding embeddings\n",
        "\n",
        "We are going to find vector representations of facial images. This will be done in the client side."
      ]
    },
    {
      "cell_type": "code",
      "execution_count": 101,
      "id": "invalid-scheme",
      "metadata": {
        "id": "invalid-scheme"
      },
      "outputs": [],
      "source": [
        "img1_path = \"img1.jpg\"\n",
        "img2_path = \"img48.jpg\""
      ]
    },
    {
      "cell_type": "code",
      "execution_count": 102,
      "id": "coastal-oxygen",
      "metadata": {
        "id": "coastal-oxygen"
      },
      "outputs": [],
      "source": [
        "img1_embedding = DeepFace.represent(img1_path, model_name = 'Facenet')\n",
        "img2_embedding = DeepFace.represent(img2_path, model_name = 'Facenet')"
      ]
    },
    {
      "cell_type": "markdown",
      "id": "considered-commitment",
      "metadata": {
        "id": "considered-commitment"
      },
      "source": [
        "# Commons"
      ]
    },
    {
      "cell_type": "code",
      "execution_count": 103,
      "id": "arabic-duration",
      "metadata": {
        "id": "arabic-duration"
      },
      "outputs": [],
      "source": [
        "def write_data(file_name, data):\n",
        "\n",
        "    if type(data) == bytes:\n",
        "        #bytes to base64\n",
        "        data = base64.b64encode(data)\n",
        "\n",
        "    with open(file_name, 'wb') as f:\n",
        "        f.write(data)\n",
        "\n",
        "def read_data(file_name):\n",
        "    with open(file_name, \"rb\") as f:\n",
        "        data = f.read()\n",
        "\n",
        "    #base64 to bytes\n",
        "    return base64.b64decode(data)"
      ]
    },
    {
      "cell_type": "markdown",
      "id": "understanding-fight",
      "metadata": {
        "id": "understanding-fight"
      },
      "source": [
        "# Initialization\n",
        "\n",
        "We are going to generate secret - public key pair in this stage. This will be done in the client side."
      ]
    },
    {
      "cell_type": "code",
      "execution_count": 104,
      "id": "manual-endorsement",
      "metadata": {
        "id": "manual-endorsement"
      },
      "outputs": [],
      "source": [
        "context = ts.context(\n",
        "            ts.SCHEME_TYPE.CKKS,\n",
        "            poly_modulus_degree = 8192,\n",
        "            coeff_mod_bit_sizes = [60, 40, 40, 60]\n",
        "          )\n",
        "\n",
        "context.generate_galois_keys()\n",
        "context.global_scale = 2**40"
      ]
    },
    {
      "cell_type": "code",
      "execution_count": 105,
      "id": "mental-mining",
      "metadata": {
        "id": "mental-mining"
      },
      "outputs": [],
      "source": [
        "secret_context = context.serialize(save_secret_key = True)\n",
        "write_data(\"secret.txt\", secret_context)"
      ]
    },
    {
      "cell_type": "code",
      "execution_count": 106,
      "id": "magnetic-relevance",
      "metadata": {
        "id": "magnetic-relevance"
      },
      "outputs": [],
      "source": [
        "context.make_context_public() #drop the secret_key from the context\n",
        "public_context = context.serialize()\n",
        "write_data(\"public.txt\", public_context)"
      ]
    },
    {
      "cell_type": "code",
      "execution_count": 107,
      "id": "tropical-cooking",
      "metadata": {
        "id": "tropical-cooking"
      },
      "outputs": [],
      "source": [
        "del context, secret_context, public_context"
      ]
    },
    {
      "cell_type": "markdown",
      "id": "exempt-rochester",
      "metadata": {
        "id": "exempt-rochester"
      },
      "source": [
        "# Encryption\n",
        "\n",
        "We are going to apply homomorphic encryption to facial embeddings. This will be done in the client side.\n",
        "\n",
        "Then, homomorphic encrypted facial embeddings will be stored in the cloud."
      ]
    },
    {
      "cell_type": "code",
      "execution_count": 108,
      "id": "stretch-press",
      "metadata": {
        "id": "stretch-press"
      },
      "outputs": [],
      "source": [
        "# Encryption\n",
        "\n",
        "# Load secret key and context\n",
        "context = ts.context_from(read_data(\"secret.txt\"))\n",
        "\n",
        "# Load facial embeddings\n",
        "img1_embedding = DeepFace.represent(img1_path, model_name='Facenet')\n",
        "img2_embedding = DeepFace.represent(img2_path, model_name='Facenet')\n",
        "\n",
        "# Convert embeddings to flat lists\n",
        "flat_img1_embedding = img1_embedding[0]['embedding']\n",
        "flat_img2_embedding = img2_embedding[0]['embedding']\n",
        "\n",
        "# Create CKKS vectors\n",
        "enc_v1 = ts.ckks_vector(context, flat_img1_embedding)\n",
        "enc_v2 = ts.ckks_vector(context, flat_img2_embedding)\n",
        "\n",
        "# Serialize and save encrypted vectors\n",
        "enc_v1_proto = enc_v1.serialize()\n",
        "enc_v2_proto = enc_v2.serialize()\n",
        "\n",
        "write_data(\"enc_v1.txt\", enc_v1_proto)\n",
        "write_data(\"enc_v2.txt\", enc_v2_proto)\n",
        "\n",
        "del context, enc_v1, enc_v2, enc_v1_proto, enc_v2_proto\n"
      ]
    },
    {
      "cell_type": "markdown",
      "id": "informational-measure",
      "metadata": {
        "id": "informational-measure"
      },
      "source": [
        "# Calculations\n",
        "\n",
        "Once homomorphic encrypted facial embeddings stored in the cloud, we are able to make calculations on encrypted data.\n",
        "\n",
        "Notice that we just have public key here and we don't have secret key."
      ]
    },
    {
      "cell_type": "code",
      "execution_count": 109,
      "id": "painful-constitution",
      "metadata": {
        "id": "painful-constitution"
      },
      "outputs": [],
      "source": [
        "context = ts.context_from(read_data(\"public.txt\"))"
      ]
    },
    {
      "cell_type": "code",
      "execution_count": 110,
      "id": "female-exchange",
      "metadata": {
        "id": "female-exchange"
      },
      "outputs": [],
      "source": [
        "enc_v1_proto = read_data(\"enc_v1.txt\")\n",
        "enc_v2_proto = read_data(\"enc_v2.txt\")"
      ]
    },
    {
      "cell_type": "code",
      "execution_count": 111,
      "id": "passing-sixth",
      "metadata": {
        "id": "passing-sixth"
      },
      "outputs": [],
      "source": [
        "enc_v1 = ts.lazy_ckks_vector_from(enc_v1_proto)\n",
        "enc_v1.link_context(context)\n",
        "\n",
        "enc_v2 = ts.lazy_ckks_vector_from(enc_v2_proto)\n",
        "enc_v2.link_context(context)"
      ]
    },
    {
      "cell_type": "code",
      "execution_count": 112,
      "id": "built-configuration",
      "metadata": {
        "id": "built-configuration"
      },
      "outputs": [],
      "source": [
        "euclidean_squared = enc_v1 - enc_v2\n",
        "euclidean_squared = euclidean_squared.dot(euclidean_squared)"
      ]
    },
    {
      "cell_type": "code",
      "execution_count": 113,
      "id": "synthetic-significance",
      "metadata": {
        "id": "synthetic-significance"
      },
      "outputs": [],
      "source": [
        "write_data(\"euclidean_squared.txt\", euclidean_squared.serialize())"
      ]
    },
    {
      "cell_type": "code",
      "execution_count": 115,
      "id": "experimental-criterion",
      "metadata": {
        "id": "experimental-criterion"
      },
      "outputs": [],
      "source": [
        "del context, enc_v1_proto, enc_v2_proto, enc_v1, enc_v2, euclidean_squared"
      ]
    },
    {
      "cell_type": "markdown",
      "id": "compatible-handle",
      "metadata": {
        "id": "compatible-handle"
      },
      "source": [
        "# Decryption\n",
        "\n",
        "Once homomorphic encrypted euclidean squared value found in the cloud, we are going to retrieve it to the client side.\n",
        "\n",
        "Client can decrypt it because we have the secret key in the client side."
      ]
    },
    {
      "cell_type": "code",
      "execution_count": 116,
      "id": "intellectual-shadow",
      "metadata": {
        "id": "intellectual-shadow"
      },
      "outputs": [],
      "source": [
        "context = ts.context_from(read_data(\"secret.txt\"))"
      ]
    },
    {
      "cell_type": "code",
      "execution_count": 117,
      "id": "welcome-question",
      "metadata": {
        "id": "welcome-question"
      },
      "outputs": [],
      "source": [
        "euclidean_squared_proto = read_data(\"euclidean_squared.txt\")"
      ]
    },
    {
      "cell_type": "code",
      "execution_count": 118,
      "id": "eligible-judges",
      "metadata": {
        "id": "eligible-judges"
      },
      "outputs": [],
      "source": [
        "euclidean_squared = ts.lazy_ckks_vector_from(euclidean_squared_proto)\n",
        "euclidean_squared.link_context(context)"
      ]
    },
    {
      "cell_type": "code",
      "execution_count": 119,
      "id": "phantom-impression",
      "metadata": {
        "id": "phantom-impression"
      },
      "outputs": [],
      "source": [
        "euclidean_squared_plain = euclidean_squared.decrypt()[0]"
      ]
    },
    {
      "cell_type": "code",
      "execution_count": 120,
      "id": "eleven-psychiatry",
      "metadata": {
        "colab": {
          "base_uri": "https://localhost:8080/"
        },
        "id": "eleven-psychiatry",
        "outputId": "9384ab62-602f-466d-cc80-92aa0644890f"
      },
      "outputs": [
        {
          "output_type": "execute_result",
          "data": {
            "text/plain": [
              "180.60738817936164"
            ]
          },
          "metadata": {},
          "execution_count": 120
        }
      ],
      "source": [
        "euclidean_squared_plain"
      ]
    },
    {
      "cell_type": "code",
      "execution_count": 121,
      "id": "changed-floor",
      "metadata": {
        "colab": {
          "base_uri": "https://localhost:8080/"
        },
        "id": "changed-floor",
        "outputId": "ead0e378-ba22-4402-b865-79673808133d"
      },
      "outputs": [
        {
          "output_type": "stream",
          "name": "stdout",
          "text": [
            "they are different persons\n"
          ]
        }
      ],
      "source": [
        "if euclidean_squared_plain < 100:\n",
        "    print(\"they are same person\")\n",
        "else:\n",
        "    print(\"they are different persons\")"
      ]
    },
    {
      "cell_type": "markdown",
      "id": "federal-appointment",
      "metadata": {
        "id": "federal-appointment"
      },
      "source": [
        "# Validation\n",
        "\n",
        "What if euclidean distance calculation is done in the client side always? Result should be same!"
      ]
    },
    {
      "cell_type": "code",
      "execution_count": 122,
      "id": "sexual-johns",
      "metadata": {
        "colab": {
          "base_uri": "https://localhost:8080/"
        },
        "id": "sexual-johns",
        "outputId": "bd329a5d-6170-4cbb-88c2-48aa3b0cd934"
      },
      "outputs": [
        {
          "output_type": "stream",
          "name": "stdout",
          "text": [
            "Euclidean distance - traditional:  180.60736389869209\n",
            "Euclidean distance - homomorphic:  180.60738817936164\n"
          ]
        }
      ],
      "source": [
        "# Extract embeddings from dictionaries\n",
        "img1_embedding_array = np.array(img1_embedding[0]['embedding'])\n",
        "img2_embedding_array = np.array(img2_embedding[0]['embedding'])\n",
        "\n",
        "# Calculate Euclidean distance\n",
        "distance = dst.findEuclideanDistance(img1_embedding_array, img2_embedding_array)\n",
        "\n",
        "# Output the Euclidean distance\n",
        "print(\"Euclidean distance - traditional: \", distance * distance)\n",
        "print(\"Euclidean distance - homomorphic: \", euclidean_squared_plain)\n"
      ]
    },
    {
      "cell_type": "code",
      "source": [],
      "metadata": {
        "id": "2WS8D_nbFewP"
      },
      "id": "2WS8D_nbFewP",
      "execution_count": 122,
      "outputs": []
    }
  ],
  "metadata": {
    "kernelspec": {
      "display_name": "Python 3 (ipykernel)",
      "language": "python",
      "name": "python3"
    },
    "language_info": {
      "codemirror_mode": {
        "name": "ipython",
        "version": 3
      },
      "file_extension": ".py",
      "mimetype": "text/x-python",
      "name": "python",
      "nbconvert_exporter": "python",
      "pygments_lexer": "ipython3",
      "version": "3.11.5"
    },
    "colab": {
      "provenance": []
    }
  },
  "nbformat": 4,
  "nbformat_minor": 5
}